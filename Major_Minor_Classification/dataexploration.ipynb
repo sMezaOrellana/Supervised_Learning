{
 "cells": [
  {
   "cell_type": "code",
   "execution_count": 2,
   "id": "d1e8c997-0869-4d8e-a21b-7b106c2d1309",
   "metadata": {},
   "outputs": [],
   "source": [
    "import scipy\n",
    "import librosa\n",
    "import numpy as np\n",
    "import scipy.signal as signal\n",
    "import os\n",
    "from matplotlib import pyplot as plt\n",
    "import random"
   ]
  },
  {
   "cell_type": "code",
   "execution_count": 81,
   "id": "718ff70c-0ff4-4406-be25-34a411153778",
   "metadata": {},
   "outputs": [
    {
     "name": "stdout",
     "output_type": "stream",
     "text": [
      "[]\n"
     ]
    }
   ],
   "source": [
    "maj_files_paths = np.empty(0, dtype=np.str_)\n",
    "min_files_paths = np.empty(0, dtype=np.str_)\n",
    "print(maj_files_paths)"
   ]
  },
  {
   "cell_type": "code",
   "execution_count": 69,
   "id": "daa085d8-a65d-4672-a82a-91e2708c7f26",
   "metadata": {},
   "outputs": [],
   "source": [
    "def f(n):\n",
    "    return 2 ** ((n-49)/12) * 440"
   ]
  },
  {
   "cell_type": "code",
   "execution_count": 71,
   "id": "c3f73cb6-72aa-445c-beac-77f6c9085f74",
   "metadata": {},
   "outputs": [],
   "source": [
    "def build_scale():\n",
    "    scale = np.zeros(13)\n",
    "    for i in range(13):\n",
    "        scale[i] = f(i + 49)\n",
    "    return scale"
   ]
  },
  {
   "cell_type": "code",
   "execution_count": 75,
   "id": "2483832f-3fbe-41b3-8c66-f62fbdea1ca8",
   "metadata": {},
   "outputs": [],
   "source": [
    "scale = build_scale()\n",
    "notes = librosa.hz_to_note(scale, octave=True)"
   ]
  },
  {
   "cell_type": "code",
   "execution_count": 4,
   "id": "75310f27-89f3-4aff-a769-961a2e0dfe79",
   "metadata": {},
   "outputs": [],
   "source": [
    "maj_files = os.path.join(os.getcwd(),'Major_Minor_Classification','Data', 'major')\n",
    "min_files = os.path.join(os.getcwd(),'Major_Minor_Classification','Data', 'minor')"
   ]
  },
  {
   "cell_type": "code",
   "execution_count": 44,
   "id": "7a093387-d08d-4c5a-ae4c-e00ae027ef44",
   "metadata": {
    "tags": []
   },
   "outputs": [],
   "source": [
    "def load_files(dirname):\n",
    "    global maj_files_paths\n",
    "    for filename in os.listdir(dirname):\n",
    "        f = os.path.join(dirname, filename)\n",
    "        # checking if it is a file\n",
    "        if os.path.isfile(f):\n",
    "            maj_files_paths = np.append(maj_files_paths,f)"
   ]
  },
  {
   "cell_type": "code",
   "execution_count": 83,
   "id": "d15ee8b7-502a-411e-a881-5d5754e830a0",
   "metadata": {},
   "outputs": [
    {
     "name": "stdout",
     "output_type": "stream",
     "text": [
      "250\n"
     ]
    }
   ],
   "source": [
    "load_files(maj_files)\n",
    "print(len(maj_files_paths))\n"
   ]
  },
  {
   "cell_type": "code",
   "execution_count": 90,
   "id": "e909382b-04cd-4510-9d4a-94c3798be897",
   "metadata": {},
   "outputs": [],
   "source": [
    "randomlist = random.sample(range(0, len(maj_files_paths)-1), 1)\n",
    "mfp = maj_files_paths[randomlist]"
   ]
  },
  {
   "cell_type": "code",
   "execution_count": 91,
   "id": "c48afb62-d960-4e6c-acd2-079b17fda1ab",
   "metadata": {},
   "outputs": [
    {
     "data": {
      "image/png": "[encoded data removed]",
      "text/plain": [
       "<Figure size 432x288 with 1 Axes>"
      ]
     },
     "metadata": {
      "needs_background": "light"
     },
     "output_type": "display_data"
    }
   ],
   "source": [
    "for p in mfp:\n",
    "    sig, sr = librosa.load(p, mono=True)\n",
    "    print(sr * len(sig)\n",
    "    sr_n = 2000\n",
    "    sig = librosa.resample(sig, orig_sr=sr, target_sr = sr_n)\n",
    "    plt.specgram(sig, NFFT=int(4096/2), noverlap=120, Fs=sr_n, cmap = \"jet\")\n",
    "    plt.ylim(scale[0], 900)\n",
    "    plt.yticks(scale,notes)\n",
    "    plt.show()"
   ]
  },
  {
   "cell_type": "code",
   "execution_count": null,
   "id": "6f044bf7-1820-4a86-9b30-cd5307c1d634",
   "metadata": {},
   "outputs": [],
   "source": []
  }
 ],
 "metadata": {
  "kernelspec": {
   "display_name": "Python 3 (ipykernel)",
   "language": "python",
   "name": "python3"
  },
  "language_info": {
   "codemirror_mode": {
    "name": "ipython",
    "version": 3
   },
   "file_extension": ".py",
   "mimetype": "text/x-python",
   "name": "python",
   "nbconvert_exporter": "python",
   "pygments_lexer": "ipython3",
   "version": "3.10.2"
  }
 },
 "nbformat": 4,
 "nbformat_minor": 5
}
