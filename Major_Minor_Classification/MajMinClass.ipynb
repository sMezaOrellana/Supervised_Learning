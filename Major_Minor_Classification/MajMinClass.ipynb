{
 "cells": [
  {
   "cell_type": "code",
   "execution_count": 1,
   "id": "5f5778fe-7827-4aa3-8e84-4dd4f26a461e",
   "metadata": {},
   "outputs": [
    {
     "name": "stderr",
     "output_type": "stream",
     "text": [
      "/usr/lib/python3.10/site-packages/tqdm/auto.py:22: TqdmWarning: IProgress not found. Please update jupyter and ipywidgets. See https://ipywidgets.readthedocs.io/en/stable/user_install.html\n",
      "  from .autonotebook import tqdm as notebook_tqdm\n"
     ]
    }
   ],
   "source": [
    "import scipy\n",
    "import librosa\n",
    "import numpy as np\n",
    "import scipy.signal as signal\n",
    "import os\n",
    "import Dataset\n",
    "from matplotlib import pyplot as plt\n",
    "import random\n",
    "import torch\n",
    "import torch.optim as optim\n",
    "import torch.nn.functional as F\n",
    "import torch.nn as nn\n",
    "import MajMinCNN\n",
    "device = torch.device('cpu')"
   ]
  },
  {
   "cell_type": "code",
   "execution_count": 3,
   "id": "b19d67b2-faef-4e50-8fd5-a1561b52c4de",
   "metadata": {},
   "outputs": [
    {
     "name": "stdout",
     "output_type": "stream",
     "text": [
      "337\n"
     ]
    }
   ],
   "source": [
    "#load data\n",
    "dataset = Dataset.Dataset_Load()\n",
    "training_set = Dataset.Dataset_M(dataset.get_training())\n",
    "testing_set = Dataset.Dataset_M(dataset.get_test())\n",
    "dataloader_train = Dataset.DataLoader(dataset=training_set, batch_size=batch_size, shuffle=True)\n",
    "dataloader_test = Dataset.DataLoader(dataset=testing_set, batch_size=batch_size, shuffle=True)"
   ]
  },
  {
   "cell_type": "code",
   "execution_count": 14,
   "id": "66014a03-ef2e-45c2-953a-1aaf685fc95b",
   "metadata": {},
   "outputs": [],
   "source": [
    "#init model\n",
    "model = CNN(2)"
   ]
  },
  {
   "cell_type": "code",
   "execution_count": 15,
   "id": "2828c126-3b1b-4d88-83e6-89d389e69103",
   "metadata": {},
   "outputs": [],
   "source": [
    "#loss and optimizer\n",
    "criterion = nn.CrossEntropyLoss()\n",
    "optimizer = optim.Adam(model.parameters(), lr=learning_rate)"
   ]
  },
  {
   "cell_type": "code",
   "execution_count": 16,
   "id": "6731b488-4676-40cc-a71d-5513a1fb42fd",
   "metadata": {
    "tags": []
   },
   "outputs": [
    {
     "name": "stdout",
     "output_type": "stream",
     "text": [
      "0\n",
      "1\n",
      "2\n",
      "3\n",
      "4\n",
      "5\n",
      "6\n",
      "7\n",
      "8\n",
      "9\n",
      "Done with training\n"
     ]
    }
   ],
   "source": [
    "#training loop\n",
    "for epoch in range(num_epochs):\n",
    "    print(epoch)\n",
    "    for batch_idx, (data,targets) in enumerate(dataloader_train):\n",
    "        data = data.to(device=device)\n",
    "        targets = targets.to(device=device)\n",
    "        #targets = targets.float()\n",
    "        data = data.float()\n",
    "        #targets = targets.unsqueeze(-1)\n",
    "        scores = model(data)\n",
    "        loss = criterion(scores, targets)\n",
    "        \n",
    "        optimizer.zero_grad()\n",
    "        loss.backward()\n",
    "        \n",
    "        optimizer.step()\n",
    "print('Done with training')"
   ]
  },
  {
   "cell_type": "code",
   "execution_count": 11,
   "id": "aa852653-a0f1-4731-8e0a-4ac7af0a4fdd",
   "metadata": {},
   "outputs": [],
   "source": [
    "def check_accuracy(model,loader):\n",
    "    num_correct = 0\n",
    "    num_samples = 0\n",
    "    model.eval()\n",
    "\n",
    "    with torch.no_grad():\n",
    "        for x,y in loader:\n",
    "            x = x.to(device=device)\n",
    "            y = y.to(device=device)\n",
    "            x.float()\n",
    "            scores = model(x)\n",
    "            _, predictions = scores.max(1)\n",
    "            num_correct += (predictions == y).sum()\n",
    "            num_samples += predictions.size(0)\n",
    "        print(f'got {num_correct} / {num_samples}, with accuracy {float(num_correct/num_samples)}')"
   ]
  },
  {
   "cell_type": "code",
   "execution_count": 18,
   "id": "45a23d90-7fa5-429e-8a62-a6e8ff35abc2",
   "metadata": {
    "tags": []
   },
   "outputs": [
    {
     "name": "stdout",
     "output_type": "stream",
     "text": [
      "got 125 / 165, with accuracy 0.7575757503509521\n"
     ]
    }
   ],
   "source": [
    "check_accuracy(model,dataloader_test)"
   ]
  },
  {
   "cell_type": "code",
   "execution_count": 5,
   "id": "c6c0d952-ecb5-4929-8dc2-b53b621ee63e",
   "metadata": {},
   "outputs": [],
   "source": [
    "class CNN(nn.Module):\n",
    "    def __init__(self, num_classes):\n",
    "            super(CNN, self).__init__()\n",
    "            self.conv1 = nn.Conv2d(in_channels=1, out_channels=16, kernel_size=(3,3), stride=(1,1), padding=(1,1))\n",
    "            self.conv2 = nn.Conv2d(in_channels=16, out_channels=32, kernel_size=(3,3), stride=(1,1), padding=(1,1))\n",
    "            self.conv3 = nn.Conv2d(in_channels=32, out_channels=64, kernel_size=(3,3), stride=(1,1), padding=(1,1))\n",
    "            self.pool = nn.MaxPool2d(kernel_size=(2,2), stride=(2,2))\n",
    "            self.fc1 = nn.Linear(64*512*17,64)\n",
    "            self.fc2 = nn.Linear(64,2)\n",
    "\n",
    "    def forward(self,x):\n",
    "        x = F.relu(self.conv1(x))\n",
    "        #print(x.shape)\n",
    "        x = F.relu(self.conv2(x))\n",
    "        x = F.relu(self.conv3(x))\n",
    "        #print(x.shape)\n",
    "        x = self.pool(x)\n",
    "        #print(x.shape)\n",
    "        x = x.reshape(x.shape[0],-1)\n",
    "        x = F.relu(self.fc1(x))\n",
    "        x = self.fc2(x)\n",
    "        return x"
   ]
  }
 ],
 "metadata": {
  "kernelspec": {
   "display_name": "Python 3 (ipykernel)",
   "language": "python",
   "name": "python3"
  },
  "language_info": {
   "codemirror_mode": {
    "name": "ipython",
    "version": 3
   },
   "file_extension": ".py",
   "mimetype": "text/x-python",
   "name": "python",
   "nbconvert_exporter": "python",
   "pygments_lexer": "ipython3",
   "version": "3.10.5"
  }
 },
 "nbformat": 4,
 "nbformat_minor": 5
}
